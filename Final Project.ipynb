{
 "cells": [
  {
   "cell_type": "markdown",
   "metadata": {},
   "source": [
    "# **Movie Data Project**"
   ]
  },
  {
   "cell_type": "markdown",
   "metadata": {},
   "source": [
    "__Opening and cleaning data__"
   ]
  },
  {
   "cell_type": "markdown",
   "metadata": {},
   "source": [
    "- Using pandas to create dataframes\n",
    "- dropna to delte tows that have empty cells\n",
    "- drop_duplicates to remove duplicate cells in the dataframe"
   ]
  },
  {
   "cell_type": "code",
   "execution_count": 1,
   "metadata": {},
   "outputs": [],
   "source": [
    "import pandas as pd # Import pandas\n",
    "\n",
    "movie_data = pd.DataFrame(pd.read_csv('movies.csv')) # Open movies files\n",
    "ratings_data = pd.DataFrame(pd.read_csv('ratings.csv')) # Open ratings file"
   ]
  },
  {
   "cell_type": "code",
   "execution_count": 2,
   "metadata": {},
   "outputs": [],
   "source": [
    "movie_data.dropna(inplace = True) # Removes nan values in movies file\n",
    "movie_data.drop_duplicates(inplace = True) # Removes duplicates in movies file"
   ]
  },
  {
   "cell_type": "code",
   "execution_count": 3,
   "metadata": {},
   "outputs": [],
   "source": [
    "ratings_data.dropna(inplace= True) # Removes nan values in ratings file\n",
    "ratings_data.drop_duplicates(inplace = True) # Removes duplicates in ratings rile"
   ]
  },
  {
   "cell_type": "markdown",
   "metadata": {},
   "source": [
    "__Merging and combining on the \"movieId\"__"
   ]
  },
  {
   "cell_type": "code",
   "execution_count": 4,
   "metadata": {},
   "outputs": [],
   "source": [
    "data = pd.merge(movie_data, ratings_data, on=[\"movieId\", \"movieId\"]) # Merges the two list based on the movieID"
   ]
  },
  {
   "cell_type": "code",
   "execution_count": 5,
   "metadata": {},
   "outputs": [
    {
     "data": {
      "text/html": [
       "<div>\n",
       "<style scoped>\n",
       "    .dataframe tbody tr th:only-of-type {\n",
       "        vertical-align: middle;\n",
       "    }\n",
       "\n",
       "    .dataframe tbody tr th {\n",
       "        vertical-align: top;\n",
       "    }\n",
       "\n",
       "    .dataframe thead th {\n",
       "        text-align: right;\n",
       "    }\n",
       "</style>\n",
       "<table border=\"1\" class=\"dataframe\">\n",
       "  <thead>\n",
       "    <tr style=\"text-align: right;\">\n",
       "      <th></th>\n",
       "      <th>movieId</th>\n",
       "      <th>title</th>\n",
       "      <th>genres</th>\n",
       "      <th>userId</th>\n",
       "      <th>rating</th>\n",
       "      <th>timestamp</th>\n",
       "    </tr>\n",
       "  </thead>\n",
       "  <tbody>\n",
       "    <tr>\n",
       "      <th>0</th>\n",
       "      <td>1</td>\n",
       "      <td>Toy Story (1995)</td>\n",
       "      <td>Adventure|Animation|Children|Comedy|Fantasy</td>\n",
       "      <td>4</td>\n",
       "      <td>4.0</td>\n",
       "      <td>1113765937</td>\n",
       "    </tr>\n",
       "    <tr>\n",
       "      <th>1</th>\n",
       "      <td>1</td>\n",
       "      <td>Toy Story (1995)</td>\n",
       "      <td>Adventure|Animation|Children|Comedy|Fantasy</td>\n",
       "      <td>10</td>\n",
       "      <td>5.0</td>\n",
       "      <td>948885850</td>\n",
       "    </tr>\n",
       "    <tr>\n",
       "      <th>2</th>\n",
       "      <td>1</td>\n",
       "      <td>Toy Story (1995)</td>\n",
       "      <td>Adventure|Animation|Children|Comedy|Fantasy</td>\n",
       "      <td>14</td>\n",
       "      <td>4.5</td>\n",
       "      <td>1442169375</td>\n",
       "    </tr>\n",
       "    <tr>\n",
       "      <th>3</th>\n",
       "      <td>1</td>\n",
       "      <td>Toy Story (1995)</td>\n",
       "      <td>Adventure|Animation|Children|Comedy|Fantasy</td>\n",
       "      <td>15</td>\n",
       "      <td>4.0</td>\n",
       "      <td>1370810063</td>\n",
       "    </tr>\n",
       "    <tr>\n",
       "      <th>4</th>\n",
       "      <td>1</td>\n",
       "      <td>Toy Story (1995)</td>\n",
       "      <td>Adventure|Animation|Children|Comedy|Fantasy</td>\n",
       "      <td>22</td>\n",
       "      <td>4.0</td>\n",
       "      <td>1237622631</td>\n",
       "    </tr>\n",
       "    <tr>\n",
       "      <th>...</th>\n",
       "      <td>...</td>\n",
       "      <td>...</td>\n",
       "      <td>...</td>\n",
       "      <td>...</td>\n",
       "      <td>...</td>\n",
       "      <td>...</td>\n",
       "    </tr>\n",
       "    <tr>\n",
       "      <th>27753439</th>\n",
       "      <td>193878</td>\n",
       "      <td>Les tribulations d'une caissière (2011)</td>\n",
       "      <td>Comedy</td>\n",
       "      <td>176871</td>\n",
       "      <td>2.0</td>\n",
       "      <td>1537875080</td>\n",
       "    </tr>\n",
       "    <tr>\n",
       "      <th>27753440</th>\n",
       "      <td>193880</td>\n",
       "      <td>Her Name Was Mumu (2016)</td>\n",
       "      <td>Drama</td>\n",
       "      <td>81710</td>\n",
       "      <td>2.0</td>\n",
       "      <td>1537886232</td>\n",
       "    </tr>\n",
       "    <tr>\n",
       "      <th>27753441</th>\n",
       "      <td>193882</td>\n",
       "      <td>Flora (2017)</td>\n",
       "      <td>Adventure|Drama|Horror|Sci-Fi</td>\n",
       "      <td>33330</td>\n",
       "      <td>2.0</td>\n",
       "      <td>1537890512</td>\n",
       "    </tr>\n",
       "    <tr>\n",
       "      <th>27753442</th>\n",
       "      <td>193886</td>\n",
       "      <td>Leal (2018)</td>\n",
       "      <td>Action|Crime|Drama</td>\n",
       "      <td>206009</td>\n",
       "      <td>2.5</td>\n",
       "      <td>1537917854</td>\n",
       "    </tr>\n",
       "    <tr>\n",
       "      <th>27753443</th>\n",
       "      <td>193886</td>\n",
       "      <td>Leal (2018)</td>\n",
       "      <td>Action|Crime|Drama</td>\n",
       "      <td>226715</td>\n",
       "      <td>4.0</td>\n",
       "      <td>1537916177</td>\n",
       "    </tr>\n",
       "  </tbody>\n",
       "</table>\n",
       "<p>27753444 rows × 6 columns</p>\n",
       "</div>"
      ],
      "text/plain": [
       "          movieId                                    title  \\\n",
       "0               1                         Toy Story (1995)   \n",
       "1               1                         Toy Story (1995)   \n",
       "2               1                         Toy Story (1995)   \n",
       "3               1                         Toy Story (1995)   \n",
       "4               1                         Toy Story (1995)   \n",
       "...           ...                                      ...   \n",
       "27753439   193878  Les tribulations d'une caissière (2011)   \n",
       "27753440   193880                 Her Name Was Mumu (2016)   \n",
       "27753441   193882                             Flora (2017)   \n",
       "27753442   193886                              Leal (2018)   \n",
       "27753443   193886                              Leal (2018)   \n",
       "\n",
       "                                               genres  userId  rating  \\\n",
       "0         Adventure|Animation|Children|Comedy|Fantasy       4     4.0   \n",
       "1         Adventure|Animation|Children|Comedy|Fantasy      10     5.0   \n",
       "2         Adventure|Animation|Children|Comedy|Fantasy      14     4.5   \n",
       "3         Adventure|Animation|Children|Comedy|Fantasy      15     4.0   \n",
       "4         Adventure|Animation|Children|Comedy|Fantasy      22     4.0   \n",
       "...                                               ...     ...     ...   \n",
       "27753439                                       Comedy  176871     2.0   \n",
       "27753440                                        Drama   81710     2.0   \n",
       "27753441                Adventure|Drama|Horror|Sci-Fi   33330     2.0   \n",
       "27753442                           Action|Crime|Drama  206009     2.5   \n",
       "27753443                           Action|Crime|Drama  226715     4.0   \n",
       "\n",
       "           timestamp  \n",
       "0         1113765937  \n",
       "1          948885850  \n",
       "2         1442169375  \n",
       "3         1370810063  \n",
       "4         1237622631  \n",
       "...              ...  \n",
       "27753439  1537875080  \n",
       "27753440  1537886232  \n",
       "27753441  1537890512  \n",
       "27753442  1537917854  \n",
       "27753443  1537916177  \n",
       "\n",
       "[27753444 rows x 6 columns]"
      ]
     },
     "execution_count": 5,
     "metadata": {},
     "output_type": "execute_result"
    }
   ],
   "source": [
    "data"
   ]
  },
  {
   "cell_type": "markdown",
   "metadata": {},
   "source": [
    "---"
   ]
  },
  {
   "cell_type": "markdown",
   "metadata": {},
   "source": [
    "__Creating two seperate dataframes for the average movie and total ratings by \"movieID\", then adding years released__"
   ]
  },
  {
   "cell_type": "markdown",
   "metadata": {},
   "source": [
    "- ratings is a dataframe displaying the average rating of each movie based on the \"movieID\"\n",
    "- amount is a dataframe diplaying the total revieews of each movie \n",
    "- years is the years released by index"
   ]
  },
  {
   "cell_type": "code",
   "execution_count": 6,
   "metadata": {},
   "outputs": [],
   "source": [
    "ratings = data.groupby(['title'])['rating'].sum() # The total rating for each movie is calculated based on movieID"
   ]
  },
  {
   "cell_type": "code",
   "execution_count": 7,
   "metadata": {},
   "outputs": [],
   "source": [
    "ratings = data.groupby(['movieId', 'title'])['rating'].sum() # The average rating for each movie is calculated based on movieID"
   ]
  },
  {
   "cell_type": "code",
   "execution_count": 8,
   "metadata": {},
   "outputs": [],
   "source": [
    "amount = data.groupby('movieId').count()['title'] # The amount of rating for each movie is calculated based on movieID"
   ]
  },
  {
   "cell_type": "code",
   "execution_count": 9,
   "metadata": {},
   "outputs": [
    {
     "data": {
      "text/plain": [
       "movieId  title                             \n",
       "1        Toy Story (1995)                      266115.0\n",
       "2        Jumanji (1995)                         88122.0\n",
       "3        Grumpier Old Men (1995)                49466.5\n",
       "4        Waiting to Exhale (1995)                8592.0\n",
       "5        Father of the Bride Part II (1995)     47618.0\n",
       "Name: rating, dtype: float64"
      ]
     },
     "execution_count": 9,
     "metadata": {},
     "output_type": "execute_result"
    }
   ],
   "source": [
    "ratings.head() # Displayes the total rating of the firs fiew rows of movies"
   ]
  },
  {
   "cell_type": "code",
   "execution_count": 10,
   "metadata": {},
   "outputs": [
    {
     "data": {
      "text/plain": [
       "movieId\n",
       "1    68469\n",
       "2    27143\n",
       "3    15585\n",
       "4     2989\n",
       "5    15474\n",
       "Name: title, dtype: int64"
      ]
     },
     "execution_count": 10,
     "metadata": {},
     "output_type": "execute_result"
    }
   ],
   "source": [
    "amount.head() #Displayes the total rating of the firs fiew rows of movies"
   ]
  },
  {
   "cell_type": "markdown",
   "metadata": {},
   "source": [
    "__Use the seperate dataframes to create one that has the movieId, title, average rating, and total reviews__"
   ]
  },
  {
   "cell_type": "markdown",
   "metadata": {},
   "source": [
    "- Combing the two data frames with average review and total reviews of each movie"
   ]
  },
  {
   "cell_type": "code",
   "execution_count": 11,
   "metadata": {},
   "outputs": [],
   "source": [
    "data = pd.merge(movie_data, ratings.to_frame().rename(columns={'rating':'average rating'}), on=('movieId')) # Add a column for total rating to data dataframe"
   ]
  },
  {
   "cell_type": "code",
   "execution_count": 12,
   "metadata": {},
   "outputs": [],
   "source": [
    "data = pd.merge(data, amount.to_frame().rename(columns={'title':'total ratings'}), on='movieId') # Add a column for the total amount of revies for each movie to the data dataframe"
   ]
  },
  {
   "cell_type": "code",
   "execution_count": 13,
   "metadata": {},
   "outputs": [],
   "source": [
    "d = data.groupby(['title'])['average rating'].sum() # Adds all of the ratings for same title together\n",
    "c = data.groupby(['title'])['total ratings'].sum()  # Adds all reviews for same title together"
   ]
  },
  {
   "cell_type": "code",
   "execution_count": 14,
   "metadata": {},
   "outputs": [],
   "source": [
    "data = pd.merge(pd.merge(data,d,on='title'),c,on='title') # Merges all data on ttle"
   ]
  },
  {
   "cell_type": "code",
   "execution_count": 15,
   "metadata": {},
   "outputs": [],
   "source": [
    "data = data.drop_duplicates(subset='title', keep=\"first\") # Drops duplicated titles"
   ]
  },
  {
   "cell_type": "code",
   "execution_count": 16,
   "metadata": {},
   "outputs": [],
   "source": [
    "data = data.drop(['average rating_x', 'total ratings_x'], axis=1) # Drops orifinal total columns"
   ]
  },
  {
   "cell_type": "code",
   "execution_count": 17,
   "metadata": {},
   "outputs": [],
   "source": [
    "data = data.rename(columns={'average rating_y':'average rating', 'total ratings_y':'total ratings'}) # Changes new total column names"
   ]
  },
  {
   "cell_type": "code",
   "execution_count": 18,
   "metadata": {},
   "outputs": [],
   "source": [
    "years = data['title'].str[-7:].str.extract('(\\d{4})') # Extracts the years by looking for 4 consecutive intergers in the last 7 charchters"
   ]
  },
  {
   "cell_type": "code",
   "execution_count": 19,
   "metadata": {},
   "outputs": [],
   "source": [
    "data = pd.merge(data, years,left_index=True, right_index=True) # Adds the release year to the data dataframe based on index"
   ]
  },
  {
   "cell_type": "code",
   "execution_count": 20,
   "metadata": {},
   "outputs": [],
   "source": [
    "data.columns = [*data.columns[:-1], 'release year'] # renames the last column of the dataframe"
   ]
  },
  {
   "cell_type": "code",
   "execution_count": 21,
   "metadata": {},
   "outputs": [],
   "source": [
    "data[\"average rating\"] = data[\"average rating\"]/data[\"total ratings\"] # Calculates average movie taring using duplicated data"
   ]
  },
  {
   "cell_type": "markdown",
   "metadata": {},
   "source": [
    "__The combined full dataframe showing the average review per movie and total reviews per movie__"
   ]
  },
  {
   "cell_type": "code",
   "execution_count": 22,
   "metadata": {},
   "outputs": [
    {
     "data": {
      "text/html": [
       "<div>\n",
       "<style scoped>\n",
       "    .dataframe tbody tr th:only-of-type {\n",
       "        vertical-align: middle;\n",
       "    }\n",
       "\n",
       "    .dataframe tbody tr th {\n",
       "        vertical-align: top;\n",
       "    }\n",
       "\n",
       "    .dataframe thead th {\n",
       "        text-align: right;\n",
       "    }\n",
       "</style>\n",
       "<table border=\"1\" class=\"dataframe\">\n",
       "  <thead>\n",
       "    <tr style=\"text-align: right;\">\n",
       "      <th></th>\n",
       "      <th>movieId</th>\n",
       "      <th>title</th>\n",
       "      <th>genres</th>\n",
       "      <th>average rating</th>\n",
       "      <th>total ratings</th>\n",
       "      <th>release year</th>\n",
       "    </tr>\n",
       "  </thead>\n",
       "  <tbody>\n",
       "    <tr>\n",
       "      <th>0</th>\n",
       "      <td>1</td>\n",
       "      <td>Toy Story (1995)</td>\n",
       "      <td>Adventure|Animation|Children|Comedy|Fantasy</td>\n",
       "      <td>3.886649</td>\n",
       "      <td>68469</td>\n",
       "      <td>1995</td>\n",
       "    </tr>\n",
       "    <tr>\n",
       "      <th>1</th>\n",
       "      <td>2</td>\n",
       "      <td>Jumanji (1995)</td>\n",
       "      <td>Adventure|Children|Fantasy</td>\n",
       "      <td>3.246583</td>\n",
       "      <td>27143</td>\n",
       "      <td>1995</td>\n",
       "    </tr>\n",
       "    <tr>\n",
       "      <th>2</th>\n",
       "      <td>3</td>\n",
       "      <td>Grumpier Old Men (1995)</td>\n",
       "      <td>Comedy|Romance</td>\n",
       "      <td>3.173981</td>\n",
       "      <td>15585</td>\n",
       "      <td>1995</td>\n",
       "    </tr>\n",
       "    <tr>\n",
       "      <th>3</th>\n",
       "      <td>4</td>\n",
       "      <td>Waiting to Exhale (1995)</td>\n",
       "      <td>Comedy|Drama|Romance</td>\n",
       "      <td>2.874540</td>\n",
       "      <td>2989</td>\n",
       "      <td>1995</td>\n",
       "    </tr>\n",
       "    <tr>\n",
       "      <th>4</th>\n",
       "      <td>5</td>\n",
       "      <td>Father of the Bride Part II (1995)</td>\n",
       "      <td>Comedy</td>\n",
       "      <td>3.077291</td>\n",
       "      <td>15474</td>\n",
       "      <td>1995</td>\n",
       "    </tr>\n",
       "    <tr>\n",
       "      <th>...</th>\n",
       "      <td>...</td>\n",
       "      <td>...</td>\n",
       "      <td>...</td>\n",
       "      <td>...</td>\n",
       "      <td>...</td>\n",
       "      <td>...</td>\n",
       "    </tr>\n",
       "    <tr>\n",
       "      <th>53884</th>\n",
       "      <td>193876</td>\n",
       "      <td>The Great Glinka (1946)</td>\n",
       "      <td>(no genres listed)</td>\n",
       "      <td>3.000000</td>\n",
       "      <td>1</td>\n",
       "      <td>1946</td>\n",
       "    </tr>\n",
       "    <tr>\n",
       "      <th>53885</th>\n",
       "      <td>193878</td>\n",
       "      <td>Les tribulations d'une caissière (2011)</td>\n",
       "      <td>Comedy</td>\n",
       "      <td>2.000000</td>\n",
       "      <td>1</td>\n",
       "      <td>2011</td>\n",
       "    </tr>\n",
       "    <tr>\n",
       "      <th>53886</th>\n",
       "      <td>193880</td>\n",
       "      <td>Her Name Was Mumu (2016)</td>\n",
       "      <td>Drama</td>\n",
       "      <td>2.000000</td>\n",
       "      <td>1</td>\n",
       "      <td>2016</td>\n",
       "    </tr>\n",
       "    <tr>\n",
       "      <th>53887</th>\n",
       "      <td>193882</td>\n",
       "      <td>Flora (2017)</td>\n",
       "      <td>Adventure|Drama|Horror|Sci-Fi</td>\n",
       "      <td>2.000000</td>\n",
       "      <td>1</td>\n",
       "      <td>2017</td>\n",
       "    </tr>\n",
       "    <tr>\n",
       "      <th>53888</th>\n",
       "      <td>193886</td>\n",
       "      <td>Leal (2018)</td>\n",
       "      <td>Action|Crime|Drama</td>\n",
       "      <td>3.250000</td>\n",
       "      <td>2</td>\n",
       "      <td>2018</td>\n",
       "    </tr>\n",
       "  </tbody>\n",
       "</table>\n",
       "<p>53817 rows × 6 columns</p>\n",
       "</div>"
      ],
      "text/plain": [
       "       movieId                                    title  \\\n",
       "0            1                         Toy Story (1995)   \n",
       "1            2                           Jumanji (1995)   \n",
       "2            3                  Grumpier Old Men (1995)   \n",
       "3            4                 Waiting to Exhale (1995)   \n",
       "4            5       Father of the Bride Part II (1995)   \n",
       "...        ...                                      ...   \n",
       "53884   193876                  The Great Glinka (1946)   \n",
       "53885   193878  Les tribulations d'une caissière (2011)   \n",
       "53886   193880                 Her Name Was Mumu (2016)   \n",
       "53887   193882                             Flora (2017)   \n",
       "53888   193886                              Leal (2018)   \n",
       "\n",
       "                                            genres  average rating  \\\n",
       "0      Adventure|Animation|Children|Comedy|Fantasy        3.886649   \n",
       "1                       Adventure|Children|Fantasy        3.246583   \n",
       "2                                   Comedy|Romance        3.173981   \n",
       "3                             Comedy|Drama|Romance        2.874540   \n",
       "4                                           Comedy        3.077291   \n",
       "...                                            ...             ...   \n",
       "53884                           (no genres listed)        3.000000   \n",
       "53885                                       Comedy        2.000000   \n",
       "53886                                        Drama        2.000000   \n",
       "53887                Adventure|Drama|Horror|Sci-Fi        2.000000   \n",
       "53888                           Action|Crime|Drama        3.250000   \n",
       "\n",
       "       total ratings release year  \n",
       "0              68469         1995  \n",
       "1              27143         1995  \n",
       "2              15585         1995  \n",
       "3               2989         1995  \n",
       "4              15474         1995  \n",
       "...              ...          ...  \n",
       "53884              1         1946  \n",
       "53885              1         2011  \n",
       "53886              1         2016  \n",
       "53887              1         2017  \n",
       "53888              2         2018  \n",
       "\n",
       "[53817 rows x 6 columns]"
      ]
     },
     "execution_count": 22,
     "metadata": {},
     "output_type": "execute_result"
    }
   ],
   "source": [
    "data # Display dataframe"
   ]
  },
  {
   "cell_type": "markdown",
   "metadata": {},
   "source": [
    "---"
   ]
  },
  {
   "cell_type": "markdown",
   "metadata": {},
   "source": [
    "# Now, we can begin to analyze the data more clearly"
   ]
  },
  {
   "cell_type": "markdown",
   "metadata": {},
   "source": [
    "---"
   ]
  },
  {
   "cell_type": "markdown",
   "metadata": {},
   "source": [
    "___Random Analysis___"
   ]
  },
  {
   "cell_type": "markdown",
   "metadata": {},
   "source": [
    "Total number of movies"
   ]
  },
  {
   "cell_type": "code",
   "execution_count": 25,
   "metadata": {},
   "outputs": [
    {
     "data": {
      "text/plain": [
       "53817"
      ]
     },
     "execution_count": 25,
     "metadata": {},
     "output_type": "execute_result"
    }
   ],
   "source": [
    "data['movieId'].count()"
   ]
  },
  {
   "cell_type": "markdown",
   "metadata": {},
   "source": [
    "Average amount a movie was rated"
   ]
  },
  {
   "cell_type": "code",
   "execution_count": 26,
   "metadata": {},
   "outputs": [
    {
     "name": "stdout",
     "output_type": "stream",
     "text": [
      "515.70\n"
     ]
    }
   ],
   "source": [
    "print('{:.2f}'.format(data['total ratings'].mean()))"
   ]
  },
  {
   "cell_type": "markdown",
   "metadata": {},
   "source": [
    "Most rated movie"
   ]
  },
  {
   "cell_type": "code",
   "execution_count": 27,
   "metadata": {},
   "outputs": [
    {
     "data": {
      "text/plain": [
       "315    Shawshank Redemption, The (1994)\n",
       "Name: title, dtype: object"
      ]
     },
     "execution_count": 27,
     "metadata": {},
     "output_type": "execute_result"
    }
   ],
   "source": [
    "data['title'].loc[data['total ratings'] == data['total ratings'].max()]"
   ]
  },
  {
   "cell_type": "markdown",
   "metadata": {},
   "source": [
    "Average rating of all movies"
   ]
  },
  {
   "cell_type": "code",
   "execution_count": 28,
   "metadata": {},
   "outputs": [
    {
     "name": "stdout",
     "output_type": "stream",
     "text": [
      "3.07\n"
     ]
    }
   ],
   "source": [
    "print('{:.2f}'.format(data['average rating'].mean()))"
   ]
  },
  {
   "cell_type": "markdown",
   "metadata": {},
   "source": [
    "All genres listed and their average rating"
   ]
  },
  {
   "cell_type": "code",
   "execution_count": 29,
   "metadata": {},
   "outputs": [
    {
     "name": "stderr",
     "output_type": "stream",
     "text": [
      "C:\\Users\\Mattm\\anaconda3\\lib\\site-packages\\pandas\\core\\strings.py:2001: UserWarning: This pattern has match groups. To actually get the groups, use str.extract.\n",
      "  return func(self, *args, **kwargs)\n"
     ]
    },
    {
     "data": {
      "text/html": [
       "<div>\n",
       "<style scoped>\n",
       "    .dataframe tbody tr th:only-of-type {\n",
       "        vertical-align: middle;\n",
       "    }\n",
       "\n",
       "    .dataframe tbody tr th {\n",
       "        vertical-align: top;\n",
       "    }\n",
       "\n",
       "    .dataframe thead th {\n",
       "        text-align: right;\n",
       "    }\n",
       "</style>\n",
       "<table border=\"1\" class=\"dataframe\">\n",
       "  <thead>\n",
       "    <tr style=\"text-align: right;\">\n",
       "      <th></th>\n",
       "      <th>Genre</th>\n",
       "      <th>Average</th>\n",
       "    </tr>\n",
       "  </thead>\n",
       "  <tbody>\n",
       "    <tr>\n",
       "      <th>0</th>\n",
       "      <td>Adventure</td>\n",
       "      <td>3.006087</td>\n",
       "    </tr>\n",
       "    <tr>\n",
       "      <th>1</th>\n",
       "      <td>Animation</td>\n",
       "      <td>3.096945</td>\n",
       "    </tr>\n",
       "    <tr>\n",
       "      <th>2</th>\n",
       "      <td>Children</td>\n",
       "      <td>3.006642</td>\n",
       "    </tr>\n",
       "    <tr>\n",
       "      <th>3</th>\n",
       "      <td>Comedy</td>\n",
       "      <td>3.052087</td>\n",
       "    </tr>\n",
       "    <tr>\n",
       "      <th>4</th>\n",
       "      <td>Fantasy</td>\n",
       "      <td>3.035774</td>\n",
       "    </tr>\n",
       "    <tr>\n",
       "      <th>5</th>\n",
       "      <td>Romance</td>\n",
       "      <td>3.152432</td>\n",
       "    </tr>\n",
       "    <tr>\n",
       "      <th>6</th>\n",
       "      <td>Drama</td>\n",
       "      <td>3.184221</td>\n",
       "    </tr>\n",
       "    <tr>\n",
       "      <th>7</th>\n",
       "      <td>Action</td>\n",
       "      <td>2.910591</td>\n",
       "    </tr>\n",
       "    <tr>\n",
       "      <th>8</th>\n",
       "      <td>Crime</td>\n",
       "      <td>3.084713</td>\n",
       "    </tr>\n",
       "    <tr>\n",
       "      <th>9</th>\n",
       "      <td>Thriller</td>\n",
       "      <td>2.912996</td>\n",
       "    </tr>\n",
       "    <tr>\n",
       "      <th>10</th>\n",
       "      <td>Horror</td>\n",
       "      <td>2.595886</td>\n",
       "    </tr>\n",
       "    <tr>\n",
       "      <th>11</th>\n",
       "      <td>Mystery</td>\n",
       "      <td>3.039971</td>\n",
       "    </tr>\n",
       "    <tr>\n",
       "      <th>12</th>\n",
       "      <td>Sci-Fi</td>\n",
       "      <td>2.768984</td>\n",
       "    </tr>\n",
       "    <tr>\n",
       "      <th>13</th>\n",
       "      <td>IMAX</td>\n",
       "      <td>3.259231</td>\n",
       "    </tr>\n",
       "    <tr>\n",
       "      <th>14</th>\n",
       "      <td>Documentary</td>\n",
       "      <td>3.403692</td>\n",
       "    </tr>\n",
       "    <tr>\n",
       "      <th>15</th>\n",
       "      <td>War</td>\n",
       "      <td>3.238589</td>\n",
       "    </tr>\n",
       "    <tr>\n",
       "      <th>16</th>\n",
       "      <td>Musical</td>\n",
       "      <td>3.199763</td>\n",
       "    </tr>\n",
       "    <tr>\n",
       "      <th>17</th>\n",
       "      <td>Western</td>\n",
       "      <td>3.022234</td>\n",
       "    </tr>\n",
       "    <tr>\n",
       "      <th>18</th>\n",
       "      <td>Film-Noir</td>\n",
       "      <td>3.313832</td>\n",
       "    </tr>\n",
       "  </tbody>\n",
       "</table>\n",
       "</div>"
      ],
      "text/plain": [
       "          Genre   Average\n",
       "0     Adventure  3.006087\n",
       "1     Animation  3.096945\n",
       "2      Children  3.006642\n",
       "3        Comedy  3.052087\n",
       "4       Fantasy  3.035774\n",
       "5       Romance  3.152432\n",
       "6         Drama  3.184221\n",
       "7        Action  2.910591\n",
       "8         Crime  3.084713\n",
       "9      Thriller  2.912996\n",
       "10       Horror  2.595886\n",
       "11      Mystery  3.039971\n",
       "12       Sci-Fi  2.768984\n",
       "13         IMAX  3.259231\n",
       "14  Documentary  3.403692\n",
       "15          War  3.238589\n",
       "16      Musical  3.199763\n",
       "17      Western  3.022234\n",
       "18    Film-Noir  3.313832"
      ]
     },
     "execution_count": 29,
     "metadata": {},
     "output_type": "execute_result"
    }
   ],
   "source": [
    "l = data['genres'].str.split('|', expand=True).stack().unique() # Obtain the unique names in the genres column seperated by |\n",
    "genreAverage =[] # Empty list to store the genre averages\n",
    "\n",
    "for i in range(len(l)): # look through the l series and for each entry calculate the average rating\n",
    "    dato = data[data['genres'].str.contains(l[i])]\n",
    "    genreAverage.append(dato['average rating'].mean())\n",
    "    \n",
    "GenreRating = pd.DataFrame(  # change name in dataframe\n",
    "    {'Genre': l,\n",
    "     'Average': genreAverage,\n",
    "    })\n",
    "\n",
    "GenreRating.drop(GenreRating.tail(1).index,inplace=True) # drop last row since its (no genre listed) \n",
    "\n",
    "GenreRating # Display genres and their average ratings"
   ]
  },
  {
   "cell_type": "code",
   "execution_count": 30,
   "metadata": {},
   "outputs": [
    {
     "name": "stderr",
     "output_type": "stream",
     "text": [
      "C:\\Users\\Mattm\\anaconda3\\lib\\site-packages\\pandas\\core\\strings.py:2001: UserWarning: This pattern has match groups. To actually get the groups, use str.extract.\n",
      "  return func(self, *args, **kwargs)\n"
     ]
    },
    {
     "data": {
      "text/html": [
       "<div>\n",
       "<style scoped>\n",
       "    .dataframe tbody tr th:only-of-type {\n",
       "        vertical-align: middle;\n",
       "    }\n",
       "\n",
       "    .dataframe tbody tr th {\n",
       "        vertical-align: top;\n",
       "    }\n",
       "\n",
       "    .dataframe thead th {\n",
       "        text-align: right;\n",
       "    }\n",
       "</style>\n",
       "<table border=\"1\" class=\"dataframe\">\n",
       "  <thead>\n",
       "    <tr style=\"text-align: right;\">\n",
       "      <th></th>\n",
       "      <th>Genre</th>\n",
       "      <th>Average</th>\n",
       "    </tr>\n",
       "  </thead>\n",
       "  <tbody>\n",
       "    <tr>\n",
       "      <th>0</th>\n",
       "      <td>Adventure</td>\n",
       "      <td>1728.598982</td>\n",
       "    </tr>\n",
       "    <tr>\n",
       "      <th>1</th>\n",
       "      <td>Animation</td>\n",
       "      <td>683.753887</td>\n",
       "    </tr>\n",
       "    <tr>\n",
       "      <th>2</th>\n",
       "      <td>Children</td>\n",
       "      <td>894.141194</td>\n",
       "    </tr>\n",
       "    <tr>\n",
       "      <th>3</th>\n",
       "      <td>Comedy</td>\n",
       "      <td>669.071797</td>\n",
       "    </tr>\n",
       "    <tr>\n",
       "      <th>4</th>\n",
       "      <td>Fantasy</td>\n",
       "      <td>1220.559687</td>\n",
       "    </tr>\n",
       "    <tr>\n",
       "      <th>5</th>\n",
       "      <td>Romance</td>\n",
       "      <td>738.339924</td>\n",
       "    </tr>\n",
       "    <tr>\n",
       "      <th>6</th>\n",
       "      <td>Drama</td>\n",
       "      <td>540.392509</td>\n",
       "    </tr>\n",
       "    <tr>\n",
       "      <th>7</th>\n",
       "      <td>Action</td>\n",
       "      <td>1251.725278</td>\n",
       "    </tr>\n",
       "    <tr>\n",
       "      <th>8</th>\n",
       "      <td>Crime</td>\n",
       "      <td>982.526305</td>\n",
       "    </tr>\n",
       "    <tr>\n",
       "      <th>9</th>\n",
       "      <td>Thriller</td>\n",
       "      <td>970.366110</td>\n",
       "    </tr>\n",
       "    <tr>\n",
       "      <th>10</th>\n",
       "      <td>Horror</td>\n",
       "      <td>396.754742</td>\n",
       "    </tr>\n",
       "    <tr>\n",
       "      <th>11</th>\n",
       "      <td>Mystery</td>\n",
       "      <td>859.102604</td>\n",
       "    </tr>\n",
       "    <tr>\n",
       "      <th>12</th>\n",
       "      <td>Sci-Fi</td>\n",
       "      <td>1432.951632</td>\n",
       "    </tr>\n",
       "    <tr>\n",
       "      <th>13</th>\n",
       "      <td>IMAX</td>\n",
       "      <td>5594.817259</td>\n",
       "    </tr>\n",
       "    <tr>\n",
       "      <th>14</th>\n",
       "      <td>Documentary</td>\n",
       "      <td>70.298942</td>\n",
       "    </tr>\n",
       "    <tr>\n",
       "      <th>15</th>\n",
       "      <td>War</td>\n",
       "      <td>845.857058</td>\n",
       "    </tr>\n",
       "    <tr>\n",
       "      <th>16</th>\n",
       "      <td>Musical</td>\n",
       "      <td>1032.290233</td>\n",
       "    </tr>\n",
       "    <tr>\n",
       "      <th>17</th>\n",
       "      <td>Western</td>\n",
       "      <td>496.728938</td>\n",
       "    </tr>\n",
       "    <tr>\n",
       "      <th>18</th>\n",
       "      <td>Film-Noir</td>\n",
       "      <td>757.616667</td>\n",
       "    </tr>\n",
       "  </tbody>\n",
       "</table>\n",
       "</div>"
      ],
      "text/plain": [
       "          Genre      Average\n",
       "0     Adventure  1728.598982\n",
       "1     Animation   683.753887\n",
       "2      Children   894.141194\n",
       "3        Comedy   669.071797\n",
       "4       Fantasy  1220.559687\n",
       "5       Romance   738.339924\n",
       "6         Drama   540.392509\n",
       "7        Action  1251.725278\n",
       "8         Crime   982.526305\n",
       "9      Thriller   970.366110\n",
       "10       Horror   396.754742\n",
       "11      Mystery   859.102604\n",
       "12       Sci-Fi  1432.951632\n",
       "13         IMAX  5594.817259\n",
       "14  Documentary    70.298942\n",
       "15          War   845.857058\n",
       "16      Musical  1032.290233\n",
       "17      Western   496.728938\n",
       "18    Film-Noir   757.616667"
      ]
     },
     "execution_count": 30,
     "metadata": {},
     "output_type": "execute_result"
    }
   ],
   "source": [
    "l = data['genres'].str.split('|', expand=True).stack().unique() # Obtain the unique names in the genres column seperated by |\n",
    "genrepopulation =[] # Empty list to store the genre average number of ratings\n",
    "\n",
    "for i in range(len(l)):  # look through the l series and for each entry calculate the average number of ratings\n",
    "    dato = data[data['genres'].str.contains(l[i])]\n",
    "    genrepopulation.append(dato['total ratings'].mean())\n",
    "    \n",
    "genrepopulation = pd.DataFrame(  # change name in dataframe\n",
    "    {'Genre': l,\n",
    "     'Average': genrepopulation,\n",
    "    })\n",
    "\n",
    "genrepopulation.drop(genrepopulation.tail(1).index,inplace=True) # drop last row since its (no genre listed) \n",
    "\n",
    "genrepopulation # Display genres and their average ratings"
   ]
  },
  {
   "cell_type": "markdown",
   "metadata": {},
   "source": [
    "Release years of movies included"
   ]
  },
  {
   "cell_type": "code",
   "execution_count": 31,
   "metadata": {},
   "outputs": [
    {
     "name": "stdout",
     "output_type": "stream",
     "text": [
      "1874\n",
      "1878\n",
      "1883\n",
      "1887\n",
      "1888\n",
      "1890\n",
      "1891\n",
      "1892\n",
      "1893\n",
      "1894\n",
      "1895\n",
      "1896\n",
      "1897\n",
      "1898\n",
      "1899\n",
      "1900\n",
      "1901\n",
      "1902\n",
      "1903\n",
      "1904\n",
      "1905\n",
      "1906\n",
      "1907\n",
      "1908\n",
      "1909\n",
      "1910\n",
      "1911\n",
      "1912\n",
      "1913\n",
      "1914\n",
      "1915\n",
      "1916\n",
      "1917\n",
      "1918\n",
      "1919\n",
      "1920\n",
      "1921\n",
      "1922\n",
      "1923\n",
      "1924\n",
      "1925\n",
      "1926\n",
      "1927\n",
      "1928\n",
      "1929\n",
      "1930\n",
      "1931\n",
      "1932\n",
      "1933\n",
      "1934\n",
      "1935\n",
      "1936\n",
      "1937\n",
      "1938\n",
      "1939\n",
      "1940\n",
      "1941\n",
      "1942\n",
      "1943\n",
      "1944\n",
      "1945\n",
      "1946\n",
      "1947\n",
      "1948\n",
      "1949\n",
      "1950\n",
      "1951\n",
      "1952\n",
      "1953\n",
      "1954\n",
      "1955\n",
      "1956\n",
      "1957\n",
      "1958\n",
      "1959\n",
      "1960\n",
      "1961\n",
      "1962\n",
      "1963\n",
      "1964\n",
      "1965\n",
      "1966\n",
      "1967\n",
      "1968\n",
      "1969\n",
      "1970\n",
      "1971\n",
      "1972\n",
      "1973\n",
      "1974\n",
      "1975\n",
      "1976\n",
      "1977\n",
      "1978\n",
      "1979\n",
      "1980\n",
      "1981\n",
      "1982\n",
      "1983\n",
      "1984\n",
      "1985\n",
      "1986\n",
      "1987\n",
      "1988\n",
      "1989\n",
      "1990\n",
      "1991\n",
      "1992\n",
      "1993\n",
      "1994\n",
      "1995\n",
      "1996\n",
      "1997\n",
      "1998\n",
      "1999\n",
      "2000\n",
      "2001\n",
      "2002\n",
      "2003\n",
      "2004\n",
      "2005\n",
      "2006\n",
      "2007\n",
      "2008\n",
      "2009\n",
      "2010\n",
      "2011\n",
      "2012\n",
      "2013\n",
      "2014\n",
      "2015\n",
      "2016\n",
      "2017\n",
      "2018\n"
     ]
    }
   ],
   "source": [
    "years= data['title'].str[-7:].str.extract('(\\d{4})') # Obtain the year of each movie by looking at the last 7 charachters\n",
    "years.dropna(inplace = True) # Drop nan values\n",
    "years= years[0].unique() # Only keep unique values\n",
    "years = pd.to_numeric(years) # Turn them into intergers for easier use laster\n",
    "years.sort() # sort the list to display in ascending order\n",
    "for i in range(len(years)):\n",
    "        print(years[i]) # print years list in ascending order"
   ]
  },
  {
   "cell_type": "markdown",
   "metadata": {},
   "source": [
    "---"
   ]
  },
  {
   "cell_type": "markdown",
   "metadata": {},
   "source": [
    "Functinos to sort and filter data. Also an interactive function to get data"
   ]
  },
  {
   "cell_type": "code",
   "execution_count": 32,
   "metadata": {},
   "outputs": [],
   "source": [
    "from IPython.display import clear_output, display # Import functions\n",
    "\n",
    "def top_ten_highestrated(m_data, minimum):\n",
    "    if minimum < 0: # Check minimum number input is valid\n",
    "        return print('\\nINVALID MINIMUM\\n') # retuns with message and no datagrame display\n",
    "    sorted_data = m_data[m_data['total ratings'] >= minimum].sort_values(by=['average rating'], ascending=False) # sort by average rating\n",
    "    return sorted_data.loc[:,[\"title\", 'average rating']].head(10)\n",
    "\n",
    "def top_ten_mostpopular(m_data):\n",
    "    sorted_data = m_data.sort_values(by=['total ratings'], ascending=False) # sort by total ratings indescending order\n",
    "    return sorted_data.loc[:,[\"title\", 'total ratings']].head(10)\n",
    "\n",
    "def movie_by_year(m_data, year):\n",
    "    if not(int(year) > 1872 and int(year) <= 2018): # Check year is within the acceptable range\n",
    "        return print('\\nINVALID YEAR\\n') # retuns with message and no datagrame display\n",
    "    sorted_data = m_data[m_data['title'].str.contains(year)] # Obtains all titles that fall in the input year\n",
    "    return sorted_data.loc[:,['title', \"release year\"]]\n",
    "\n",
    "\n",
    "def movie_by_genre(m_data, genre):\n",
    "    if genre not in l: # Check genre is in the list of genres available\n",
    "        print('GENRE NOT AVAILABLE') # doesent retunr, just prints out a message and displys an empty dataframe\n",
    "    sorted_data = m_data[m_data['genres'].str.contains(genre)] # Obtains all mives that fall under input genre\n",
    "    return sorted_data.loc[:,[\"title\",\"genres\"]]\n",
    "\n",
    "def sortorfilter(m_data):\n",
    "    answer = input('Would you like to sort or filter the data (Y/N):')\n",
    "    \n",
    "    while (answer.upper() == 'Y'):\n",
    "        clear_output(wait=True)\n",
    "        num = int(input(' ------SORT-----\\n'     # interactive menue asking the user a quastion\n",
    "             '1. Average Rating \\n'\n",
    "             '2. Most Popular \\n'\n",
    "             '\\n-----FILTER-----\\n'\n",
    "             '3. Year \\n'\n",
    "             '4. Genre \\n'\n",
    "             '\\nHow would you like to sort the data: '))\n",
    "        \n",
    "        if num == 1:\n",
    "            minimum = int(input('If you\\'d like for there to be a minimum number of movies enter it now, otherwise enter 0:'))\n",
    "            clear_output(wait=True) # clears terminal for clarity\n",
    "            display(top_ten_highestrated(data, minimum))\n",
    "        elif num == 2:\n",
    "            clear_output(wait=True) # clears terminal for clarity\n",
    "            display(top_ten_mostpopular(data))\n",
    "        elif num == 3:\n",
    "            year = input('What year between 1874 and 2018 would you like to display: ')\n",
    "            if not year.isnumeric():\n",
    "                continue\n",
    "            clear_output(wait=True) # clears terminal for clarity\n",
    "            display(movie_by_year(data, year))\n",
    "        elif num == 4:\n",
    "            genre = input('What genre would you like to display: ')\n",
    "            clear_output(wait=True) # clears terminal for clarity\n",
    "            display(movie_by_genre(data, genre))\n",
    "            \n",
    "        input('Press any key to continue') # Doese not continue until user says so\n",
    "            \n",
    "        clear_output(wait=True) # clears terminal for clarity\n",
    "        answer = input('Would you like to sort a different way (Y/N): ') #Asks user if theyd like to try something different"
   ]
  },
  {
   "cell_type": "markdown",
   "metadata": {},
   "source": [
    "Highest rated movies"
   ]
  },
  {
   "cell_type": "code",
   "execution_count": 33,
   "metadata": {},
   "outputs": [
    {
     "data": {
      "text/html": [
       "<div>\n",
       "<style scoped>\n",
       "    .dataframe tbody tr th:only-of-type {\n",
       "        vertical-align: middle;\n",
       "    }\n",
       "\n",
       "    .dataframe tbody tr th {\n",
       "        vertical-align: top;\n",
       "    }\n",
       "\n",
       "    .dataframe thead th {\n",
       "        text-align: right;\n",
       "    }\n",
       "</style>\n",
       "<table border=\"1\" class=\"dataframe\">\n",
       "  <thead>\n",
       "    <tr style=\"text-align: right;\">\n",
       "      <th></th>\n",
       "      <th>title</th>\n",
       "      <th>average rating</th>\n",
       "    </tr>\n",
       "  </thead>\n",
       "  <tbody>\n",
       "    <tr>\n",
       "      <th>44516</th>\n",
       "      <td>Planet Earth II (2016)</td>\n",
       "      <td>4.486518</td>\n",
       "    </tr>\n",
       "    <tr>\n",
       "      <th>40097</th>\n",
       "      <td>Planet Earth (2006)</td>\n",
       "      <td>4.458092</td>\n",
       "    </tr>\n",
       "    <tr>\n",
       "      <th>315</th>\n",
       "      <td>Shawshank Redemption, The (1994)</td>\n",
       "      <td>4.424188</td>\n",
       "    </tr>\n",
       "    <tr>\n",
       "      <th>44379</th>\n",
       "      <td>Band of Brothers (2001)</td>\n",
       "      <td>4.399898</td>\n",
       "    </tr>\n",
       "    <tr>\n",
       "      <th>45941</th>\n",
       "      <td>Black Mirror: White Christmas (2014)</td>\n",
       "      <td>4.350559</td>\n",
       "    </tr>\n",
       "    <tr>\n",
       "      <th>845</th>\n",
       "      <td>Godfather, The (1972)</td>\n",
       "      <td>4.332893</td>\n",
       "    </tr>\n",
       "    <tr>\n",
       "      <th>49</th>\n",
       "      <td>Usual Suspects, The (1995)</td>\n",
       "      <td>4.291959</td>\n",
       "    </tr>\n",
       "    <tr>\n",
       "      <th>1197</th>\n",
       "      <td>Godfather: Part II, The (1974)</td>\n",
       "      <td>4.263035</td>\n",
       "    </tr>\n",
       "    <tr>\n",
       "      <th>523</th>\n",
       "      <td>Schindler's List (1993)</td>\n",
       "      <td>4.257502</td>\n",
       "    </tr>\n",
       "    <tr>\n",
       "      <th>1939</th>\n",
       "      <td>Seven Samurai (Shichinin no samurai) (1954)</td>\n",
       "      <td>4.254116</td>\n",
       "    </tr>\n",
       "  </tbody>\n",
       "</table>\n",
       "</div>"
      ],
      "text/plain": [
       "                                             title  average rating\n",
       "44516                       Planet Earth II (2016)        4.486518\n",
       "40097                          Planet Earth (2006)        4.458092\n",
       "315               Shawshank Redemption, The (1994)        4.424188\n",
       "44379                      Band of Brothers (2001)        4.399898\n",
       "45941         Black Mirror: White Christmas (2014)        4.350559\n",
       "845                          Godfather, The (1972)        4.332893\n",
       "49                      Usual Suspects, The (1995)        4.291959\n",
       "1197                Godfather: Part II, The (1974)        4.263035\n",
       "523                        Schindler's List (1993)        4.257502\n",
       "1939   Seven Samurai (Shichinin no samurai) (1954)        4.254116"
      ]
     },
     "execution_count": 33,
     "metadata": {},
     "output_type": "execute_result"
    }
   ],
   "source": [
    "top_ten_highestrated(data, 500)"
   ]
  },
  {
   "cell_type": "markdown",
   "metadata": {},
   "source": [
    "Most reviewd movie"
   ]
  },
  {
   "cell_type": "code",
   "execution_count": 34,
   "metadata": {},
   "outputs": [
    {
     "data": {
      "text/html": [
       "<div>\n",
       "<style scoped>\n",
       "    .dataframe tbody tr th:only-of-type {\n",
       "        vertical-align: middle;\n",
       "    }\n",
       "\n",
       "    .dataframe tbody tr th {\n",
       "        vertical-align: top;\n",
       "    }\n",
       "\n",
       "    .dataframe thead th {\n",
       "        text-align: right;\n",
       "    }\n",
       "</style>\n",
       "<table border=\"1\" class=\"dataframe\">\n",
       "  <thead>\n",
       "    <tr style=\"text-align: right;\">\n",
       "      <th></th>\n",
       "      <th>title</th>\n",
       "      <th>total ratings</th>\n",
       "    </tr>\n",
       "  </thead>\n",
       "  <tbody>\n",
       "    <tr>\n",
       "      <th>315</th>\n",
       "      <td>Shawshank Redemption, The (1994)</td>\n",
       "      <td>97999</td>\n",
       "    </tr>\n",
       "    <tr>\n",
       "      <th>352</th>\n",
       "      <td>Forrest Gump (1994)</td>\n",
       "      <td>97040</td>\n",
       "    </tr>\n",
       "    <tr>\n",
       "      <th>293</th>\n",
       "      <td>Pulp Fiction (1994)</td>\n",
       "      <td>92406</td>\n",
       "    </tr>\n",
       "    <tr>\n",
       "      <th>588</th>\n",
       "      <td>Silence of the Lambs, The (1991)</td>\n",
       "      <td>87899</td>\n",
       "    </tr>\n",
       "    <tr>\n",
       "      <th>2490</th>\n",
       "      <td>Matrix, The (1999)</td>\n",
       "      <td>84545</td>\n",
       "    </tr>\n",
       "    <tr>\n",
       "      <th>257</th>\n",
       "      <td>Star Wars: Episode IV - A New Hope (1977)</td>\n",
       "      <td>81815</td>\n",
       "    </tr>\n",
       "    <tr>\n",
       "      <th>476</th>\n",
       "      <td>Jurassic Park (1993)</td>\n",
       "      <td>76451</td>\n",
       "    </tr>\n",
       "    <tr>\n",
       "      <th>523</th>\n",
       "      <td>Schindler's List (1993)</td>\n",
       "      <td>71516</td>\n",
       "    </tr>\n",
       "    <tr>\n",
       "      <th>108</th>\n",
       "      <td>Braveheart (1995)</td>\n",
       "      <td>68803</td>\n",
       "    </tr>\n",
       "    <tr>\n",
       "      <th>0</th>\n",
       "      <td>Toy Story (1995)</td>\n",
       "      <td>68469</td>\n",
       "    </tr>\n",
       "  </tbody>\n",
       "</table>\n",
       "</div>"
      ],
      "text/plain": [
       "                                          title  total ratings\n",
       "315            Shawshank Redemption, The (1994)          97999\n",
       "352                         Forrest Gump (1994)          97040\n",
       "293                         Pulp Fiction (1994)          92406\n",
       "588            Silence of the Lambs, The (1991)          87899\n",
       "2490                         Matrix, The (1999)          84545\n",
       "257   Star Wars: Episode IV - A New Hope (1977)          81815\n",
       "476                        Jurassic Park (1993)          76451\n",
       "523                     Schindler's List (1993)          71516\n",
       "108                           Braveheart (1995)          68803\n",
       "0                              Toy Story (1995)          68469"
      ]
     },
     "execution_count": 34,
     "metadata": {},
     "output_type": "execute_result"
    }
   ],
   "source": [
    "top_ten_mostpopular(data)"
   ]
  },
  {
   "cell_type": "markdown",
   "metadata": {},
   "source": [
    "Filter by genre"
   ]
  },
  {
   "cell_type": "code",
   "execution_count": 35,
   "metadata": {},
   "outputs": [
    {
     "data": {
      "text/html": [
       "<div>\n",
       "<style scoped>\n",
       "    .dataframe tbody tr th:only-of-type {\n",
       "        vertical-align: middle;\n",
       "    }\n",
       "\n",
       "    .dataframe tbody tr th {\n",
       "        vertical-align: top;\n",
       "    }\n",
       "\n",
       "    .dataframe thead th {\n",
       "        text-align: right;\n",
       "    }\n",
       "</style>\n",
       "<table border=\"1\" class=\"dataframe\">\n",
       "  <thead>\n",
       "    <tr style=\"text-align: right;\">\n",
       "      <th></th>\n",
       "      <th>title</th>\n",
       "      <th>genres</th>\n",
       "    </tr>\n",
       "  </thead>\n",
       "  <tbody>\n",
       "    <tr>\n",
       "      <th>0</th>\n",
       "      <td>Toy Story (1995)</td>\n",
       "      <td>Adventure|Animation|Children|Comedy|Fantasy</td>\n",
       "    </tr>\n",
       "    <tr>\n",
       "      <th>12</th>\n",
       "      <td>Balto (1995)</td>\n",
       "      <td>Adventure|Animation|Children</td>\n",
       "    </tr>\n",
       "    <tr>\n",
       "      <th>47</th>\n",
       "      <td>Pocahontas (1995)</td>\n",
       "      <td>Animation|Children|Drama|Musical|Romance</td>\n",
       "    </tr>\n",
       "    <tr>\n",
       "      <th>236</th>\n",
       "      <td>Goofy Movie, A (1995)</td>\n",
       "      <td>Animation|Children|Comedy|Romance</td>\n",
       "    </tr>\n",
       "    <tr>\n",
       "      <th>241</th>\n",
       "      <td>Gumby: The Movie (1995)</td>\n",
       "      <td>Animation|Children</td>\n",
       "    </tr>\n",
       "    <tr>\n",
       "      <th>...</th>\n",
       "      <td>...</td>\n",
       "      <td>...</td>\n",
       "    </tr>\n",
       "    <tr>\n",
       "      <th>53837</th>\n",
       "      <td>Almost Home (2014)</td>\n",
       "      <td>Adventure|Animation|Sci-Fi</td>\n",
       "    </tr>\n",
       "    <tr>\n",
       "      <th>53847</th>\n",
       "      <td>Lupin the Third: Daisuke Jigen's Gravestone (2...</td>\n",
       "      <td>Action|Adventure|Animation|Comedy</td>\n",
       "    </tr>\n",
       "    <tr>\n",
       "      <th>53848</th>\n",
       "      <td>Lupin the Third: The Blood Spray of Goemon Ish...</td>\n",
       "      <td>Action|Animation|Crime</td>\n",
       "    </tr>\n",
       "    <tr>\n",
       "      <th>53849</th>\n",
       "      <td>Bleach: Memories of Nobody (2006)</td>\n",
       "      <td>Animation|Fantasy|Sci-Fi</td>\n",
       "    </tr>\n",
       "    <tr>\n",
       "      <th>53865</th>\n",
       "      <td>Lily C.A.T. (1987)</td>\n",
       "      <td>Animation|Horror|Sci-Fi</td>\n",
       "    </tr>\n",
       "  </tbody>\n",
       "</table>\n",
       "<p>2637 rows × 2 columns</p>\n",
       "</div>"
      ],
      "text/plain": [
       "                                                   title  \\\n",
       "0                                       Toy Story (1995)   \n",
       "12                                          Balto (1995)   \n",
       "47                                     Pocahontas (1995)   \n",
       "236                                Goofy Movie, A (1995)   \n",
       "241                              Gumby: The Movie (1995)   \n",
       "...                                                  ...   \n",
       "53837                                 Almost Home (2014)   \n",
       "53847  Lupin the Third: Daisuke Jigen's Gravestone (2...   \n",
       "53848  Lupin the Third: The Blood Spray of Goemon Ish...   \n",
       "53849                  Bleach: Memories of Nobody (2006)   \n",
       "53865                                 Lily C.A.T. (1987)   \n",
       "\n",
       "                                            genres  \n",
       "0      Adventure|Animation|Children|Comedy|Fantasy  \n",
       "12                    Adventure|Animation|Children  \n",
       "47        Animation|Children|Drama|Musical|Romance  \n",
       "236              Animation|Children|Comedy|Romance  \n",
       "241                             Animation|Children  \n",
       "...                                            ...  \n",
       "53837                   Adventure|Animation|Sci-Fi  \n",
       "53847            Action|Adventure|Animation|Comedy  \n",
       "53848                       Action|Animation|Crime  \n",
       "53849                     Animation|Fantasy|Sci-Fi  \n",
       "53865                      Animation|Horror|Sci-Fi  \n",
       "\n",
       "[2637 rows x 2 columns]"
      ]
     },
     "execution_count": 35,
     "metadata": {},
     "output_type": "execute_result"
    }
   ],
   "source": [
    "movie_by_genre(data, 'Animation')"
   ]
  },
  {
   "cell_type": "markdown",
   "metadata": {},
   "source": [
    "Filter by release year"
   ]
  },
  {
   "cell_type": "code",
   "execution_count": 36,
   "metadata": {},
   "outputs": [
    {
     "data": {
      "text/html": [
       "<div>\n",
       "<style scoped>\n",
       "    .dataframe tbody tr th:only-of-type {\n",
       "        vertical-align: middle;\n",
       "    }\n",
       "\n",
       "    .dataframe tbody tr th {\n",
       "        vertical-align: top;\n",
       "    }\n",
       "\n",
       "    .dataframe thead th {\n",
       "        text-align: right;\n",
       "    }\n",
       "</style>\n",
       "<table border=\"1\" class=\"dataframe\">\n",
       "  <thead>\n",
       "    <tr style=\"text-align: right;\">\n",
       "      <th></th>\n",
       "      <th>title</th>\n",
       "      <th>release year</th>\n",
       "    </tr>\n",
       "  </thead>\n",
       "  <tbody>\n",
       "    <tr>\n",
       "      <th>580</th>\n",
       "      <td>Home Alone (1990)</td>\n",
       "      <td>1990</td>\n",
       "    </tr>\n",
       "    <tr>\n",
       "      <th>581</th>\n",
       "      <td>Ghost (1990)</td>\n",
       "      <td>1990</td>\n",
       "    </tr>\n",
       "    <tr>\n",
       "      <th>585</th>\n",
       "      <td>Dances with Wolves (1990)</td>\n",
       "      <td>1990</td>\n",
       "    </tr>\n",
       "    <tr>\n",
       "      <th>592</th>\n",
       "      <td>Pretty Woman (1990)</td>\n",
       "      <td>1990</td>\n",
       "    </tr>\n",
       "    <tr>\n",
       "      <th>619</th>\n",
       "      <td>Asfour Stah (1990)</td>\n",
       "      <td>1990</td>\n",
       "    </tr>\n",
       "    <tr>\n",
       "      <th>...</th>\n",
       "      <td>...</td>\n",
       "      <td>...</td>\n",
       "    </tr>\n",
       "    <tr>\n",
       "      <th>52779</th>\n",
       "      <td>Mounam Sammadham (1990)</td>\n",
       "      <td>1990</td>\n",
       "    </tr>\n",
       "    <tr>\n",
       "      <th>52801</th>\n",
       "      <td>The Silver Chair (1990)</td>\n",
       "      <td>1990</td>\n",
       "    </tr>\n",
       "    <tr>\n",
       "      <th>52878</th>\n",
       "      <td>A Girl of the Limberlost (1990)</td>\n",
       "      <td>1990</td>\n",
       "    </tr>\n",
       "    <tr>\n",
       "      <th>52993</th>\n",
       "      <td>The Juniper Tree (1990)</td>\n",
       "      <td>1990</td>\n",
       "    </tr>\n",
       "    <tr>\n",
       "      <th>53366</th>\n",
       "      <td>The Architects (1990)</td>\n",
       "      <td>1990</td>\n",
       "    </tr>\n",
       "  </tbody>\n",
       "</table>\n",
       "<p>495 rows × 2 columns</p>\n",
       "</div>"
      ],
      "text/plain": [
       "                                 title release year\n",
       "580                  Home Alone (1990)         1990\n",
       "581                       Ghost (1990)         1990\n",
       "585          Dances with Wolves (1990)         1990\n",
       "592                Pretty Woman (1990)         1990\n",
       "619                 Asfour Stah (1990)         1990\n",
       "...                                ...          ...\n",
       "52779          Mounam Sammadham (1990)         1990\n",
       "52801          The Silver Chair (1990)         1990\n",
       "52878  A Girl of the Limberlost (1990)         1990\n",
       "52993          The Juniper Tree (1990)         1990\n",
       "53366            The Architects (1990)         1990\n",
       "\n",
       "[495 rows x 2 columns]"
      ]
     },
     "execution_count": 36,
     "metadata": {},
     "output_type": "execute_result"
    }
   ],
   "source": [
    "movie_by_year(data, '1990')"
   ]
  },
  {
   "cell_type": "code",
   "execution_count": 37,
   "metadata": {},
   "outputs": [
    {
     "data": {
      "text/html": [
       "<div>\n",
       "<style scoped>\n",
       "    .dataframe tbody tr th:only-of-type {\n",
       "        vertical-align: middle;\n",
       "    }\n",
       "\n",
       "    .dataframe tbody tr th {\n",
       "        vertical-align: top;\n",
       "    }\n",
       "\n",
       "    .dataframe thead th {\n",
       "        text-align: right;\n",
       "    }\n",
       "</style>\n",
       "<table border=\"1\" class=\"dataframe\">\n",
       "  <thead>\n",
       "    <tr style=\"text-align: right;\">\n",
       "      <th></th>\n",
       "      <th>movieId</th>\n",
       "      <th>title</th>\n",
       "      <th>genres</th>\n",
       "      <th>average rating</th>\n",
       "      <th>total ratings</th>\n",
       "      <th>release year</th>\n",
       "    </tr>\n",
       "  </thead>\n",
       "  <tbody>\n",
       "    <tr>\n",
       "      <th>0</th>\n",
       "      <td>1</td>\n",
       "      <td>Toy Story (1995)</td>\n",
       "      <td>Adventure|Animation|Children|Comedy|Fantasy</td>\n",
       "      <td>3.886649</td>\n",
       "      <td>68469</td>\n",
       "      <td>1995</td>\n",
       "    </tr>\n",
       "    <tr>\n",
       "      <th>1</th>\n",
       "      <td>2</td>\n",
       "      <td>Jumanji (1995)</td>\n",
       "      <td>Adventure|Children|Fantasy</td>\n",
       "      <td>3.246583</td>\n",
       "      <td>27143</td>\n",
       "      <td>1995</td>\n",
       "    </tr>\n",
       "    <tr>\n",
       "      <th>2</th>\n",
       "      <td>3</td>\n",
       "      <td>Grumpier Old Men (1995)</td>\n",
       "      <td>Comedy|Romance</td>\n",
       "      <td>3.173981</td>\n",
       "      <td>15585</td>\n",
       "      <td>1995</td>\n",
       "    </tr>\n",
       "    <tr>\n",
       "      <th>3</th>\n",
       "      <td>4</td>\n",
       "      <td>Waiting to Exhale (1995)</td>\n",
       "      <td>Comedy|Drama|Romance</td>\n",
       "      <td>2.874540</td>\n",
       "      <td>2989</td>\n",
       "      <td>1995</td>\n",
       "    </tr>\n",
       "    <tr>\n",
       "      <th>4</th>\n",
       "      <td>5</td>\n",
       "      <td>Father of the Bride Part II (1995)</td>\n",
       "      <td>Comedy</td>\n",
       "      <td>3.077291</td>\n",
       "      <td>15474</td>\n",
       "      <td>1995</td>\n",
       "    </tr>\n",
       "  </tbody>\n",
       "</table>\n",
       "</div>"
      ],
      "text/plain": [
       "   movieId                               title  \\\n",
       "0        1                    Toy Story (1995)   \n",
       "1        2                      Jumanji (1995)   \n",
       "2        3             Grumpier Old Men (1995)   \n",
       "3        4            Waiting to Exhale (1995)   \n",
       "4        5  Father of the Bride Part II (1995)   \n",
       "\n",
       "                                        genres  average rating  total ratings  \\\n",
       "0  Adventure|Animation|Children|Comedy|Fantasy        3.886649          68469   \n",
       "1                   Adventure|Children|Fantasy        3.246583          27143   \n",
       "2                               Comedy|Romance        3.173981          15585   \n",
       "3                         Comedy|Drama|Romance        2.874540           2989   \n",
       "4                                       Comedy        3.077291          15474   \n",
       "\n",
       "  release year  \n",
       "0         1995  \n",
       "1         1995  \n",
       "2         1995  \n",
       "3         1995  \n",
       "4         1995  "
      ]
     },
     "execution_count": 37,
     "metadata": {},
     "output_type": "execute_result"
    }
   ],
   "source": [
    "data.head()"
   ]
  },
  {
   "cell_type": "markdown",
   "metadata": {},
   "source": [
    "Interactive functino to filter and sort"
   ]
  },
  {
   "cell_type": "code",
   "execution_count": 38,
   "metadata": {},
   "outputs": [
    {
     "name": "stdout",
     "output_type": "stream",
     "text": [
      "Would you like to sort or filter the data (Y/N):n\n"
     ]
    }
   ],
   "source": [
    "sortorfilter(data)"
   ]
  },
  {
   "cell_type": "markdown",
   "metadata": {},
   "source": [
    "## Graphs"
   ]
  },
  {
   "cell_type": "markdown",
   "metadata": {},
   "source": [
    "---"
   ]
  },
  {
   "cell_type": "markdown",
   "metadata": {},
   "source": [
    "___By Year___"
   ]
  },
  {
   "cell_type": "markdown",
   "metadata": {},
   "source": [
    "Average movie rating by year"
   ]
  },
  {
   "cell_type": "code",
   "execution_count": 39,
   "metadata": {},
   "outputs": [
    {
     "data": {
      "text/plain": [
       "<AxesSubplot:title={'center':'Average Movie Rating by Year from 1918 to 2018'}, xlabel='Release Year', ylabel='Average Rating'>"
      ]
     },
     "execution_count": 39,
     "metadata": {},
     "output_type": "execute_result"
    },
    {
     "data": {
      "image/png": "[encoded data removed]",
      "text/plain": [
       "<Figure size 432x288 with 1 Axes>"
      ]
     },
     "metadata": {
      "needs_background": "light"
     },
     "output_type": "display_data"
    }
   ],
   "source": [
    "import matplotlib.pyplot as plt # Imports matplotlib\n",
    "\n",
    "ratings = data.groupby(['release year'])['average rating'].mean()\n",
    "ratings = ratings.reset_index()\n",
    "ratings[\"release year\"] = ratings[\"release year\"].astype(str).astype(float)\n",
    "\n",
    "ratings.plot(x = 'release year', y = 'average rating', title = 'Average Movie Rating by Year from 1918 to 2018', xlim = 1918, xlabel = 'Release Year', ylabel = 'Average Rating')"
   ]
  },
  {
   "cell_type": "markdown",
   "metadata": {},
   "source": [
    "Over the last 100 years movies have held remakably constant in overal ratings. There has been a slight decrease but the average change over these is only about 5% from 1918 to 2018. However, this can also be due tot the number of user rtings as seen in the next two graphs."
   ]
  },
  {
   "cell_type": "markdown",
   "metadata": {},
   "source": [
    "Movie Popularity by Year"
   ]
  },
  {
   "cell_type": "code",
   "execution_count": 40,
   "metadata": {},
   "outputs": [
    {
     "data": {
      "text/plain": [
       "<AxesSubplot:title={'center':'Average Number Ratings by Year from 1918 to 2018'}, xlabel='Release Year', ylabel='Average Number Ratings'>"
      ]
     },
     "execution_count": 40,
     "metadata": {},
     "output_type": "execute_result"
    },
    {
     "data": {
      "image/png": "[encoded data removed]",
      "text/plain": [
       "<Figure size 432x288 with 1 Axes>"
      ]
     },
     "metadata": {
      "needs_background": "light"
     },
     "output_type": "display_data"
    }
   ],
   "source": [
    "Yearratings = data.groupby(['release year'])['total ratings'].mean()\n",
    "Yearratings = Yearratings.reset_index()\n",
    "Yearratings[\"release year\"] = Yearratings[\"release year\"].astype(str).astype(float)\n",
    "\n",
    "\n",
    "Yearratings.plot(x = 'release year', y = 'total ratings', title = 'Average Number Ratings by Year from 1918 to 2018', xlim = 1918, xlabel = 'Release Year', ylabel = 'Average Number Ratings')"
   ]
  },
  {
   "cell_type": "markdown",
   "metadata": {},
   "source": [
    "The average number of ratings has naturally increased for the last 100 years. The spike in user ratings in the late 1990s could be due to the inception of this data and there being a new want to use it. Also, different movie tracking system came into play making this data obsolete. "
   ]
  },
  {
   "cell_type": "markdown",
   "metadata": {},
   "source": [
    "Most Popular Year for Movies"
   ]
  },
  {
   "cell_type": "code",
   "execution_count": 41,
   "metadata": {},
   "outputs": [
    {
     "data": {
      "text/plain": [
       "<AxesSubplot:title={'center':'Total Movie Ratings by Year from 1918 to 2018'}, xlabel='Release Year', ylabel='Average Number Ratings (millions)'>"
      ]
     },
     "execution_count": 41,
     "metadata": {},
     "output_type": "execute_result"
    },
    {
     "data": {
      "image/png": "[encoded data removed]",
      "text/plain": [
       "<Figure size 432x288 with 1 Axes>"
      ]
     },
     "metadata": {
      "needs_background": "light"
     },
     "output_type": "display_data"
    }
   ],
   "source": [
    "Year_pop = data.groupby(['release year'])['total ratings'].sum()\n",
    "Year_pop = Year_pop.reset_index()\n",
    "Year_pop[\"release year\"] = Year_pop[\"release year\"].astype(str).astype(float)\n",
    "\n",
    "Year_pop.plot(x = 'release year', y = 'total ratings', title = 'Total Movie Ratings by Year from 1918 to 2018', xlim = 1918, xlabel = 'Release Year', ylabel = 'Average Number Ratings (millions)')"
   ]
  },
  {
   "cell_type": "markdown",
   "metadata": {},
   "source": [
    "As before movies have been move popular over the last 40 years than the time bofore it. This graph follows the total movie popularity graph fairly close. However, it can be seen there isn't as dramatic of a drop in the last 20 years, meaning there are less reviewers during that timeframe"
   ]
  },
  {
   "cell_type": "markdown",
   "metadata": {},
   "source": [
    "---"
   ]
  },
  {
   "cell_type": "markdown",
   "metadata": {},
   "source": [
    "___By Genre___"
   ]
  },
  {
   "cell_type": "markdown",
   "metadata": {},
   "source": [
    "Average Rating by Gerne"
   ]
  },
  {
   "cell_type": "code",
   "execution_count": 42,
   "metadata": {},
   "outputs": [
    {
     "data": {
      "text/plain": [
       "<AxesSubplot:title={'center':'Avererage Genre Rating'}, xlabel='Genre', ylabel='Average Review Score'>"
      ]
     },
     "execution_count": 42,
     "metadata": {},
     "output_type": "execute_result"
    },
    {
     "data": {
      "image/png": "[encoded data removed]",
      "text/plain": [
       "<Figure size 432x288 with 1 Axes>"
      ]
     },
     "metadata": {
      "needs_background": "light"
     },
     "output_type": "display_data"
    }
   ],
   "source": [
    "GenreRating.plot(x = 'Genre', kind = 'bar', title = 'Avererage Genre Rating', ylim = 2, xlabel = 'Genre', ylabel = 'Average Review Score')"
   ]
  },
  {
   "cell_type": "markdown",
   "metadata": {},
   "source": [
    "The top three genres by review score are Documnetaries, Fil-Noir and IMAX, while the bottom three are Horror, Sci-Fi and Action. This can better be compared to in the following graph, Average Genre Popularity.\n",
    "\n",
    "*The graph is zoomed in for clearity"
   ]
  },
  {
   "cell_type": "markdown",
   "metadata": {},
   "source": [
    "Average popularity amonst the genres"
   ]
  },
  {
   "cell_type": "code",
   "execution_count": 43,
   "metadata": {},
   "outputs": [
    {
     "data": {
      "text/plain": [
       "<AxesSubplot:title={'center':'Avererage Genre Popularity'}, xlabel='Genre', ylabel='Average Number of Ratings'>"
      ]
     },
     "execution_count": 43,
     "metadata": {},
     "output_type": "execute_result"
    },
    {
     "data": {
      "image/png": "[encoded data removed]",
      "text/plain": [
       "<Figure size 432x288 with 1 Axes>"
      ]
     },
     "metadata": {
      "needs_background": "light"
     },
     "output_type": "display_data"
    }
   ],
   "source": [
    "genrepopulation.plot(x = 'Genre', kind = 'bar', title = 'Avererage Genre Popularity', xlabel = 'Genre', ylabel = 'Average Number of Ratings')"
   ]
  },
  {
   "cell_type": "markdown",
   "metadata": {},
   "source": [
    "The top three in popularity are IMAX, Adventure, and Sci-Fi, while the bottom three are Documentary, Horror, and Drama. These two data would indicate that there arentt too many people that watch documentrries, however the onse that do watch documentaries tent to really like the genre. On the other hand horror movies are at the bottom in popularity and rating, meaning people that like this genre like it for things other than the qulaity of the movies. Additionally, people who like IMAX movies really tend to like the experience and have more to say about it on average. "
   ]
  },
  {
   "cell_type": "markdown",
   "metadata": {},
   "source": [
    "## Summary"
   ]
  },
  {
   "cell_type": "markdown",
   "metadata": {},
   "source": [
    "- Total number of movies: 53889\n",
    "- Number of genres: 19\n",
    "- Average movie rating: 3.07\n",
    "- Highest rated movie: Planet Earth II (2016)\n",
    "- Most popular movie: Shawshank Redemption, The (1994)\n",
    "- Highest rated genre: Documentaries\n",
    "- Most average rated gente: IMAX\n",
    "- Lowest rated genre: Horror\n",
    "- Least average rated genre: Documentaries"
   ]
  }
 ],
 "metadata": {
  "kernelspec": {
   "display_name": "Python 3",
   "language": "python",
   "name": "python3"
  },
  "language_info": {
   "codemirror_mode": {
    "name": "ipython",
    "version": 3
   },
   "file_extension": ".py",
   "mimetype": "text/x-python",
   "name": "python",
   "nbconvert_exporter": "python",
   "pygments_lexer": "ipython3",
   "version": "3.8.5"
  }
 },
 "nbformat": 4,
 "nbformat_minor": 4
}
